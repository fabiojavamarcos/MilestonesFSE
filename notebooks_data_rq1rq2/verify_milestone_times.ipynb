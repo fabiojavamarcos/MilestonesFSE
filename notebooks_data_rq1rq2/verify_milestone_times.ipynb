{
 "cells": [
  {
   "cell_type": "markdown",
   "id": "fae76cec",
   "metadata": {},
   "source": [
    "# Verify Mean Cumulative Time to Correctly Complete Milestones\n",
    "This notebook reproduces the computation requested for milestones **M1 (problem)**, **M7 (solution)**, and **M8 (implement)** using the CSV provided.\n",
    "\n",
    "**Correctness filters**:\n",
    "- M1: `right_problem == 'y'` and use `problem` column (minutes)\n",
    "- M7: `sound_solution == 'y'` and use `solution` column (minutes)\n",
    "- M8: `correct == 'y'` and use `implement` column (minutes)\n",
    "\n",
    "It then computes the mean time (in minutes) by `group` (Control vs Treatment) and the percent difference `(Treatment - Control) / Control * 100`."
   ]
  },
  {
   "cell_type": "code",
   "execution_count": null,
   "id": "d8493dd3",
   "metadata": {},
   "outputs": [],
   "source": [
    "# Parameters\n",
    "CSV_PATH = r\"/mnt/data/Milestones - timesStandard-prod-Final.csv\"  # change if your CSV is elsewhere"
   ]
  },
  {
   "cell_type": "code",
   "execution_count": null,
   "id": "e34fa56f",
   "metadata": {},
   "outputs": [],
   "source": [
    "import pandas as pd\n",
    "\n",
    "# Load and normalize columns\n",
    "df = pd.read_csv(CSV_PATH)\n",
    "df.columns = [c.strip().lower().replace(\" \", \"_\") for c in df.columns]\n",
    "\n",
    "# Filters for correctness\n",
    "m1_df = df[df['right_problem'] == 'y']     # M1 uses 'problem' minutes\n",
    "m7_df = df[df['sound_solution'] == 'y']    # M7 uses 'solution' minutes\n",
    "m8_df = df[df['correct'] == 'y']           # M8 uses 'implement' minutes\n",
    "\n",
    "# Means by group\n",
    "m1_means = m1_df.groupby('group')['problem'].mean().rename('M1_mean_minutes')\n",
    "m7_means = m7_df.groupby('group')['solution'].mean().rename('M7_mean_minutes')\n",
    "m8_means = m8_df.groupby('group')['implement'].mean().rename('M8_mean_minutes')\n",
    "\n",
    "results = pd.concat([m1_means, m7_means, m8_means], axis=1)\n",
    "results.round(2)"
   ]
  },
  {
   "cell_type": "code",
   "execution_count": null,
   "id": "f21b9d97",
   "metadata": {},
   "outputs": [],
   "source": [
    "# Build summary with % differences\n",
    "def pct_diff(control, treatment):\n",
    "    if pd.isna(control) or pd.isna(treatment) or control == 0:\n",
    "        return float('nan')\n",
    "    return (treatment - control) / control * 100.0\n",
    "\n",
    "summary_rows = []\n",
    "for m_col, label in [('M1_mean_minutes', 'M1 (problem)'),\n",
    "                     ('M7_mean_minutes', 'M7 (solution)'),\n",
    "                     ('M8_mean_minutes', 'M8 (implement)')]:\n",
    "    control_val = results.loc['Control', m_col] if 'Control' in results.index else float('nan')\n",
    "    treatment_val = results.loc['Treatment', m_col] if 'Treatment' in results.index else float('nan')\n",
    "    summary_rows.append({\n",
    "        'Milestone': label,\n",
    "        'Control_mean_min': control_val,\n",
    "        'Treatment_mean_min': treatment_val,\n",
    "        '%_Difference_(Treatment_vs_Control)': pct_diff(control_val, treatment_val)\n",
    "    })\n",
    "\n",
    "summary = pd.DataFrame(summary_rows)\n",
    "summary.round(2)"
   ]
  },
  {
   "cell_type": "markdown",
   "id": "6df1e7be",
   "metadata": {},
   "source": [
    "You can export the tables above or adapt the filters if your definition of correctness changes."
   ]
  }
 ],
 "metadata": {},
 "nbformat": 4,
 "nbformat_minor": 5
}
