{
 "cells": [
  {
   "cell_type": "markdown",
   "metadata": {},
   "source": [
    "# Success Rates and Mean Times by Experience Threshold (3.5)\n",
    "This notebook verifies the **success rate** and **mean time** for milestones **M7 (solution)** and **M8 (implement)** by **group** (Control vs Treatment) and by **experience level**.\n",
    "\n",
    "### Definitions\n",
    "- **Control experience column**: `Control YOE` (used only for rows in the Control group)\n",
    "- **Treatment experience column**: `Alt YOE` (used only for rows in the Treatment group)\n",
    "- **Experience threshold**: Low (≤ 3.5), High (> 3.5)\n",
    "- **M7 success**: `sound_solution == 'y'`\n",
    "- **M8 success**: `correct == 'y'`\n",
    "- **M7 time**: `solution` (minutes)\n",
    "- **M8 time**: `implement` (minutes)\n",
    "\n",
    "Times are averaged **only among successful attempts**. The notebook also reports counts per bucket to make the denominators explicit."
   ]
  },
  {
   "cell_type": "code",
   "execution_count": null,
   "metadata": {},
   "outputs": [],
   "source": [
    "# Path to the CSV file (change if needed)\n",
    "CSV_PATH = \"Milestones - timesStandard-prod-Final.csv\"\n",
    "\n",
    "import pandas as pd\n",
    "import numpy as np\n",
    "\n",
    "# Load data\n",
    "df = pd.read_csv(CSV_PATH)\n",
    "\n",
    "# Normalize column names for easier use\n",
    "df.columns = [c.strip().lower().replace(\" \", \"_\") for c in df.columns]\n",
    "\n",
    "# Quick sanity check of the columns we rely on\n",
    "needed = ['group', 'solution', 'implement', 'sound_solution', 'correct', 'control_yoe', 'alt_yoe']\n",
    "missing = [c for c in needed if c not in df.columns]\n",
    "assert not missing, f\"Missing required columns: {missing}\"\n",
    "\n",
    "df.head(3)"
   ]
  },
  {
   "cell_type": "code",
   "execution_count": null,
   "metadata": {},
   "outputs": [],
   "source": [
    "# Build an experience column that uses control_yoe for Control rows and alt_yoe for Treatment rows\n",
    "df['experience'] = np.where(df['group'].str.lower() == 'control', df['control_yoe'], df['alt_yoe'])\n",
    "\n",
    "# Define experience buckets\n",
    "def exp_bucket(x):\n",
    "    if pd.isna(x):\n",
    "        return np.nan\n",
    "    return 'Low (≤3.5)' if x <= 3.5 else 'High (>3.5)'\n",
    "\n",
    "df['experience_bucket'] = df['experience'].apply(exp_bucket)\n",
    "\n",
    "# Helper to compute success rate and mean time by group & experience bucket\n",
    "def summarize(milestone_time_col, success_flag_col):\n",
    "    rows = []\n",
    "    for g in ['Control', 'Treatment']:\n",
    "        for bucket in ['Low (≤3.5)', 'High (>3.5)']:\n",
    "            sub = df[(df['group'] == g) & (df['experience_bucket'] == bucket)]\n",
    "            n_total = len(sub)\n",
    "            succ = sub[sub[success_flag_col] == 'y']\n",
    "            n_succ = len(succ)\n",
    "            rate = (n_succ / n_total * 100.0) if n_total > 0 else float('nan')\n",
    "            mean_time = succ[milestone_time_col].mean()\n",
    "            rows.append({\n",
    "                'Group': g,\n",
    "                'Experience': bucket,\n",
    "                'N total': n_total,\n",
    "                'N success': n_succ,\n",
    "                'Success %': rate,\n",
    "                'Mean time (min)': mean_time\n",
    "            })\n",
    "    return pd.DataFrame(rows)\n",
    "\n",
    "m7_table = summarize('solution', 'sound_solution')\n",
    "m8_table = summarize('implement', 'correct')\n",
    "\n",
    "m7_table.round(2)"
   ]
  },
  {
   "cell_type": "code",
   "execution_count": null,
   "metadata": {},
   "outputs": [],
   "source": [
    "m8_table.round(2)"
   ]
  },
  {
   "cell_type": "code",
   "execution_count": null,
   "metadata": {},
   "outputs": [],
   "source": [
    "# Merge M7 and M8 for a compact view\n",
    "merged = m7_table.merge(m8_table, on=['Group','Experience'], suffixes=(' M7',' M8'))\n",
    "merged = merged[[\n",
    "    'Group','Experience',\n",
    "    'N total M7','N success M7','Success % M7','Mean time (min) M7',\n",
    "    'N total M8','N success M8','Success % M8','Mean time (min) M8'\n",
    "]].round(2)\n",
    "merged"
   ]
  },
  {
   "cell_type": "markdown",
   "metadata": {},
   "source": [
    "## Optional: export results to CSV\n",
    "Uncomment the cell below to write the tables to disk."
   ]
  },
  {
   "cell_type": "code",
   "execution_count": null,
   "metadata": {},
   "outputs": [],
   "source": [
    "# m7_table.round(2).to_csv('m7_by_experience.csv', index=False)\n",
    "# m8_table.round(2).to_csv('m8_by_experience.csv', index=False)\n",
    "# merged.to_csv('m7_m8_merged_by_experience.csv', index=False)"
   ]
  }
 ],
 "metadata": {
  "kernelspec": {
   "display_name": "Python 3",
   "language": "python",
   "name": "python3"
  },
  "language_info": {
   "name": "python",
   "version": "3.11",
   "mimetype": "text/x-python",
   "codemirror_mode": {
    "name": "ipython",
    "version": 3
   },
   "pygments_lexer": "ipython3",
   "nbconvert_exporter": "python",
   "file_extension": ".py"
  }
 },
 "nbformat": 4,
 "nbformat_minor": 5
}
