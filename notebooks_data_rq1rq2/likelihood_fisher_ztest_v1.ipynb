{
 "cells": [
  {
   "cell_type": "markdown",
   "metadata": {},
   "source": [
    "# Likelihood, Fisher's Exact Test, and Two-Proportion Z-Test for M7 and M8\n",
    "This notebook computes:\n",
    "- **Likelihood %** (Treatment % ÷ Control % × 100)\n",
    "- **Fisher's Exact Test** (exact p-value)\n",
    "- **Two-Proportion Z-Test** (approximate p-value)\n",
    "\n",
    "Using the dataset's **success/failure counts** from the Control and Treatment groups, stratified by experience level ≤ 3.5 vs > 3.5."
   ]
  },
  {
   "cell_type": "code",
   "execution_count": null,
   "metadata": {},
   "outputs": [],
   "source": [
    "import pandas as pd\n",
    "import numpy as np\n",
    "from scipy.stats import fisher_exact, norm\n",
    "\n",
    "# --- PARAMETERS ---\n",
    "CSV_PATH = \"Milestones - timesStandard-prod-Final.csv\"  # adjust if needed\n",
    "EXPERIENCE_THRESHOLD = 3.5\n",
    "\n",
    "# --- LOAD DATA ---\n",
    "df = pd.read_csv(CSV_PATH)\n",
    "df.columns = [c.strip().lower().replace(\" \", \"_\") for c in df.columns]\n",
    "\n",
    "# Build experience column (Control uses control_yoe, Treatment uses alt_yoe)\n",
    "df['experience'] = np.where(df['group'].str.lower() == 'control', df['control_yoe'], df['alt_yoe'])\n",
    "df['experience_bucket'] = df['experience'].apply(lambda x: 'Low (≤3.5)' if pd.notna(x) and x <= EXPERIENCE_THRESHOLD else ('High (>3.5)' if pd.notna(x) else np.nan))\n",
    "\n",
    "# Helper: get counts of successes & totals\n",
    "def get_counts(flag_col, group, bucket):\n",
    "    sub = df[(df['group'] == group) & (df['experience_bucket'] == bucket)]\n",
    "    n_total = len(sub)\n",
    "    n_success = (sub[flag_col] == 'y').sum()\n",
    "    return n_success, n_total\n",
    "\n",
    "# Comparisons for M7 and M8\n",
    "comparisons = [\n",
    "    (\"M7 Low exp\", \"sound_solution\", \"Low (≤3.5)\"),\n",
    "    (\"M7 High exp\", \"sound_solution\", \"High (>3.5)\"),\n",
    "    (\"M8 Low exp\", \"correct\", \"Low (≤3.5)\"),\n",
    "    (\"M8 High exp\", \"correct\", \"High (>3.5)\")\n",
    "]\n",
    "\n",
    "# Results list\n",
    "results = []\n",
    "for label, flag_col, bucket in comparisons:\n",
    "    succ_t, total_t = get_counts(flag_col, \"Treatment\", bucket)\n",
    "    succ_c, total_c = get_counts(flag_col, \"Control\", bucket)\n",
    "    \n",
    "    # Fisher's exact test\n",
    "    odds, p_fisher = fisher_exact([[succ_t, total_t - succ_t], [succ_c, total_c - succ_c]])\n",
    "    \n",
    "    # Two-proportion z-test\n",
    "    p1 = succ_t / total_t if total_t > 0 else np.nan\n",
    "    p2 = succ_c / total_c if total_c > 0 else np.nan\n",
    "    p_pool = (succ_t + succ_c) / (total_t + total_c) if (total_t + total_c) > 0 else np.nan\n",
    "    se = np.sqrt(p_pool * (1 - p_pool) * (1 / total_t + 1 / total_c)) if total_t > 0 and total_c > 0 else np.nan\n",
    "    z = (p1 - p2) / se if se != 0 else np.nan\n",
    "    p_z = 2 * (1 - norm.cdf(abs(z))) if not np.isnan(z) else np.nan\n",
    "    \n",
    "    results.append({\n",
    "        \"Comparison\": label,\n",
    "        \"Treatment successes\": succ_t, \"Treatment total\": total_t,\n",
    "        \"Control successes\": succ_c, \"Control total\": total_c,\n",
    "        \"Likelihood %\": (p1 / p2) * 100 if p2 > 0 else np.nan,\n",
    "        \"Fisher odds ratio\": odds, \"Fisher p-value\": p_fisher,\n",
    "        \"Z-test p-value\": p_z\n",
    "    })\n",
    "\n",
    "results_df = pd.DataFrame(results)\n",
    "results_df.round(4)"
   ]
  },
  {
   "cell_type": "markdown",
   "metadata": {},
   "source": [
    "## Notes:\n",
    "- **Likelihood %**: ratio of treatment success rate to control success rate × 100.\n",
    "- **Fisher's exact test**: better for small sample sizes, returns exact p-values.\n",
    "- **Two-proportion z-test**: normal approximation, may give smaller p-values in small-sample cases.\n",
    "- If the p-values disagree, trust Fisher’s more for small n."
   ]
  }
 ],
 "metadata": {
  "kernelspec": {
   "display_name": "Python 3",
   "language": "python",
   "name": "python3"
  },
  "language_info": {
   "name": "python",
   "version": "3.11",
   "mimetype": "text/x-python",
   "codemirror_mode": {
    "name": "ipython",
    "version": 3
   },
   "pygments_lexer": "ipython3",
   "nbconvert_exporter": "python",
   "file_extension": ".py"
  }
 },
 "nbformat": 4,
 "nbformat_minor": 5
}
