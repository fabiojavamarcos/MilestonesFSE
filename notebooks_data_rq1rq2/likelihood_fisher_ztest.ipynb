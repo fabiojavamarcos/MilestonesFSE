{
 "cells": [
  {
   "cell_type": "markdown",
   "metadata": {},
   "source": [
    "# Likelihood, Fisher's Exact Test, and Two-Proportion Z-Test for M7 and M8\n",
    "This notebook computes:\n",
    "- **Likelihood %** (Treatment % ÷ Control % × 100)\n",
    "- **Fisher's Exact Test** (exact p-value)\n",
    "- **Two-Proportion Z-Test** (approximate p-value)\n",
    "\n",
    "Using the dataset's **success/failure counts** from the Control and Treatment groups, stratified by experience level ≤ 3.5 vs > 3.5."
   ]
  },
  {
   "cell_type": "code",
   "execution_count": null,
   "metadata": {},
   "outputs": [],
   "source": [
    "import pandas as pd\n",
    "import numpy as np\n",
    "from scipy.stats import fisher_exact, norm\n",
    "\n",
    "# --- PARAMETERS ---\n",
    "CSV_PATH = \"Milestones - timesStandard-prod-Final.csv\"  # adjust if needed\n",
    "EXPERIENCE_THRESHOLD = 3.5\n",
    "\n",
    "# --- LOAD DATA ---\n",
    "df = pd.read_csv(CSV_PATH)\n",
    "df.columns = [c.strip().lower().replace(\" \", \"_\") for c in df.columns]\n",
    "\n",
    "# Build experience column (Control uses control_yoe, Treatment uses alt_yoe)\n",
    "df['experience'] = np.where(df['group'].str.lower() == 'control', df['control_yoe'], df['alt_yoe'])\n",
    "df['experience_bucket'] = df['e]()_]()
